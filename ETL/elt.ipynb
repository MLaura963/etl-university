{
 "cells": [
  {
   "cell_type": "markdown",
   "id": "a61bc158",
   "metadata": {},
   "source": [
    "# ETL: Universities API → SQLite (Jupyter Notebook)\n",
    "\n",
    "Este notebook implementa um pipeline ETL que:\n",
    "1. **Extrai** os dados da API pública `http://universities.hipolabs.com/search`;\n",
    "2. **Transforma** e normaliza os registros;\n",
    "3. **Carrega** os dados em um banco SQLite local;\n",
    "4. Executa consultas SQL de exemplo demonstrando o uso do banco.\n",
    "\n",
    "> Observação: este notebook faz requisições HTTP à API pública. Execute as células em seu ambiente local (com internet)."
   ]
  },
  {
   "cell_type": "code",
   "execution_count": 7,
   "id": "06014d67",
   "metadata": {},
   "outputs": [],
   "source": [
    "# Requisitos: instale pacotes se necessário\n",
    "# Execute apenas se necessário: !pip install requests pandas tqdm\n",
    "try:\n",
    "    import requests, sqlite3, pandas as pd\n",
    "except Exception as e:\n",
    "    print('Você pode precisar instalar dependências: pip install requests pandas tqdm')\n",
    "    raise"
   ]
  },
  {
   "cell_type": "code",
   "execution_count": 8,
   "id": "51cf1a04",
   "metadata": {},
   "outputs": [
    {
     "name": "stdout",
     "output_type": "stream",
     "text": [
      "Total de registros coletados: 10185\n"
     ]
    }
   ],
   "source": [
    "\n",
    "BASE_URL = \"https://raw.githubusercontent.com/Hipo/university-domains-list/refs/heads/master/world_universities_and_domains.json\"\n",
    "\n",
    "response = requests.get(BASE_URL)\n",
    "if response.status_code == 200:\n",
    "    universities = response.json()\n",
    "    print(f\"Total de registros coletados: {len(universities)}\")\n",
    "else:\n",
    "    raise Exception(f\"Falha ao baixar o JSON: {response.status_code}\")\n"
   ]
  },
  {
   "cell_type": "code",
   "execution_count": 9,
   "id": "1017f030",
   "metadata": {},
   "outputs": [
    {
     "name": "stdout",
     "output_type": "stream",
     "text": [
      "[('Engineering Institute of Technology', 'Australia', None, 'https://www.eit.edu.au/', 'student.eit.edu.au'), ('Universitas Nusa Putra', 'Indonesia', None, 'https://nusaputra.ac.id', 'nusaputra.ac.id'), ('University of Kyrenia', 'Turkey', None, 'https://kyrenia.edu.tr', 'std.kyrenia.edu.tr,kyrenia.edu.tr'), ('Regent University College of Science and Technology', 'Ghana', None, 'https://regent.edu.gh', 'regent.edu.gh'), ('Wroclaw Akademia Biznesu', 'Poland', None, 'https://wab.edu.pl', 'student.wab.edu.pl,wab.edu.pl')]\n"
     ]
    }
   ],
   "source": [
    "def transform_data(universities):\n",
    "    return [\n",
    "        (\n",
    "            uni.get(\"name\"),\n",
    "            uni.get(\"country\"),\n",
    "            uni.get(\"state-province\"),\n",
    "            \",\".join(uni.get(\"web_pages\", [])),\n",
    "            \",\".join(uni.get(\"domains\", []))\n",
    "        )\n",
    "        for uni in universities\n",
    "    ]\n",
    "\n",
    "universities_data = transform_data(universities)\n",
    "print(universities_data[:5]) "
   ]
  },
  {
   "cell_type": "code",
   "execution_count": 10,
   "id": "0112c1e0",
   "metadata": {},
   "outputs": [
    {
     "ename": "OperationalError",
     "evalue": "table universities already exists",
     "output_type": "error",
     "traceback": [
      "\u001b[31m---------------------------------------------------------------------------\u001b[39m",
      "\u001b[31mOperationalError\u001b[39m                          Traceback (most recent call last)",
      "\u001b[36mCell\u001b[39m\u001b[36m \u001b[39m\u001b[32mIn[10]\u001b[39m\u001b[32m, line 6\u001b[39m\n\u001b[32m      3\u001b[39m \u001b[38;5;28;01mwith\u001b[39;00m sqlite3.connect(DB_FILE) \u001b[38;5;28;01mas\u001b[39;00m conn:\n\u001b[32m      4\u001b[39m     c = conn.cursor()\n\u001b[32m----> \u001b[39m\u001b[32m6\u001b[39m     \u001b[43mc\u001b[49m\u001b[43m.\u001b[49m\u001b[43mexecute\u001b[49m\u001b[43m(\u001b[49m\u001b[33;43m'''\u001b[39;49m\n\u001b[32m      7\u001b[39m \u001b[33;43m        CREATE TABLE universities (\u001b[39;49m\n\u001b[32m      8\u001b[39m \u001b[33;43m            id INTEGER PRIMARY KEY AUTOINCREMENT,\u001b[39;49m\n\u001b[32m      9\u001b[39m \u001b[33;43m            name TEXT,\u001b[39;49m\n\u001b[32m     10\u001b[39m \u001b[33;43m            country TEXT,\u001b[39;49m\n\u001b[32m     11\u001b[39m \u001b[33;43m            state_province TEXT,\u001b[39;49m\n\u001b[32m     12\u001b[39m \u001b[33;43m            web_pages TEXT,\u001b[39;49m\n\u001b[32m     13\u001b[39m \u001b[33;43m            domains TEXT\u001b[39;49m\n\u001b[32m     14\u001b[39m \u001b[33;43m        )\u001b[39;49m\n\u001b[32m     15\u001b[39m \u001b[33;43m    \u001b[39;49m\u001b[33;43m'''\u001b[39;49m\u001b[43m)\u001b[49m\n\u001b[32m     17\u001b[39m     c.executemany(\u001b[33m\"\"\"\u001b[39m\n\u001b[32m     18\u001b[39m \u001b[33m        INSERT INTO universities (name, country, state_province, web_pages, domains)\u001b[39m\n\u001b[32m     19\u001b[39m \u001b[33m        VALUES (?, ?, ?, ?, ?)\u001b[39m\n\u001b[32m     20\u001b[39m \u001b[33m    \u001b[39m\u001b[33m\"\"\"\u001b[39m, universities_data)\n\u001b[32m     22\u001b[39m     conn.commit()\n",
      "\u001b[31mOperationalError\u001b[39m: table universities already exists"
     ]
    }
   ],
   "source": [
    "DB_FILE = \"universities.db\"\n",
    "\n",
    "with sqlite3.connect(DB_FILE) as conn:\n",
    "    c = conn.cursor()\n",
    "    \n",
    "    c.execute('''\n",
    "        CREATE TABLE universities (\n",
    "            id INTEGER PRIMARY KEY AUTOINCREMENT,\n",
    "            name TEXT,\n",
    "            country TEXT,\n",
    "            state_province TEXT,\n",
    "            web_pages TEXT,\n",
    "            domains TEXT\n",
    "        )\n",
    "    ''')\n",
    "  \n",
    "    c.executemany(\"\"\"\n",
    "        INSERT INTO universities (name, country, state_province, web_pages, domains)\n",
    "        VALUES (?, ?, ?, ?, ?)\n",
    "    \"\"\", universities_data)\n",
    "    \n",
    "    conn.commit()\n",
    "    \n",
    "conn.close()\n",
    "\n",
    "print(\"ETL concluído! Banco 'universidades.db' criado e populado com sucesso\")"
   ]
  },
  {
   "cell_type": "code",
   "execution_count": 11,
   "id": "6c10aa3e",
   "metadata": {},
   "outputs": [],
   "source": [
    "\n",
    "\n",
    "DB_PATH = 'universities.db'\n",
    "\n",
    "# def query_total_by_country(limit=20):\n",
    "#     conn = sqlite3.connect(DB_PATH)\n",
    "#     df = pd.read_sql_query(\">\n",
    "#         SELECT country, COUNT(*) AS total\n",
    "#         FROM universities\n",
    "#         GROUP BY country\n",
    "#         ORDER BY total DESC\n",
    "#         LIMIT :limit\n",
    "#     \", conn, params={'limit': limit})\n",
    "#     conn.close()\n",
    "#     return df\n",
    "\n",
    "def query_universities_by_country(country):\n",
    "    conn = sqlite3.connect(DB_PATH)\n",
    "    df = pd.read_sql_query(\"\"\"\n",
    "        SELECT id, name, state_province, domains, web_pages\n",
    "        FROM universities\n",
    "        WHERE lower(country) = lower(:country)\n",
    "        ORDER BY name\n",
    "    \"\"\", conn, params={'country': country})\n",
    "    conn.close()\n",
    "    return df\n",
    "\n",
    "def search_universities_by_name(term, limit=100):\n",
    "    conn = sqlite3.connect(DB_PATH)\n",
    "    term_like = f\"%{term}%\"\n",
    "    df = pd.read_sql_query(\"\"\"\n",
    "        SELECT id, name, country, domains, web_pages\n",
    "        FROM universities\n",
    "        WHERE lower(name) LIKE lower(:term)\n",
    "        ORDER BY country, name\n",
    "        LIMIT :limit\n",
    "    \"\"\", conn, params={'term': term_like, 'limit': limit})\n",
    "    conn.close()\n",
    "    return df"
   ]
  },
  {
   "cell_type": "code",
   "execution_count": 12,
   "id": "e7c00a5a",
   "metadata": {},
   "outputs": [
    {
     "data": {
      "text/html": [
       "<div>\n",
       "<style scoped>\n",
       "    .dataframe tbody tr th:only-of-type {\n",
       "        vertical-align: middle;\n",
       "    }\n",
       "\n",
       "    .dataframe tbody tr th {\n",
       "        vertical-align: top;\n",
       "    }\n",
       "\n",
       "    .dataframe thead th {\n",
       "        text-align: right;\n",
       "    }\n",
       "</style>\n",
       "<table border=\"1\" class=\"dataframe\">\n",
       "  <thead>\n",
       "    <tr style=\"text-align: right;\">\n",
       "      <th></th>\n",
       "      <th>country</th>\n",
       "      <th>total</th>\n",
       "    </tr>\n",
       "  </thead>\n",
       "  <tbody>\n",
       "    <tr>\n",
       "      <th>0</th>\n",
       "      <td>United States</td>\n",
       "      <td>2348</td>\n",
       "    </tr>\n",
       "    <tr>\n",
       "      <th>1</th>\n",
       "      <td>Japan</td>\n",
       "      <td>572</td>\n",
       "    </tr>\n",
       "    <tr>\n",
       "      <th>2</th>\n",
       "      <td>India</td>\n",
       "      <td>473</td>\n",
       "    </tr>\n",
       "    <tr>\n",
       "      <th>3</th>\n",
       "      <td>China</td>\n",
       "      <td>397</td>\n",
       "    </tr>\n",
       "    <tr>\n",
       "      <th>4</th>\n",
       "      <td>Germany</td>\n",
       "      <td>318</td>\n",
       "    </tr>\n",
       "    <tr>\n",
       "      <th>...</th>\n",
       "      <td>...</td>\n",
       "      <td>...</td>\n",
       "    </tr>\n",
       "    <tr>\n",
       "      <th>197</th>\n",
       "      <td>Bhutan</td>\n",
       "      <td>1</td>\n",
       "    </tr>\n",
       "    <tr>\n",
       "      <th>198</th>\n",
       "      <td>Bermuda</td>\n",
       "      <td>1</td>\n",
       "    </tr>\n",
       "    <tr>\n",
       "      <th>199</th>\n",
       "      <td>Barbados</td>\n",
       "      <td>1</td>\n",
       "    </tr>\n",
       "    <tr>\n",
       "      <th>200</th>\n",
       "      <td>Bahamas</td>\n",
       "      <td>1</td>\n",
       "    </tr>\n",
       "    <tr>\n",
       "      <th>201</th>\n",
       "      <td>Andorra</td>\n",
       "      <td>1</td>\n",
       "    </tr>\n",
       "  </tbody>\n",
       "</table>\n",
       "<p>202 rows × 2 columns</p>\n",
       "</div>"
      ],
      "text/plain": [
       "           country  total\n",
       "0    United States   2348\n",
       "1            Japan    572\n",
       "2            India    473\n",
       "3            China    397\n",
       "4          Germany    318\n",
       "..             ...    ...\n",
       "197         Bhutan      1\n",
       "198        Bermuda      1\n",
       "199       Barbados      1\n",
       "200        Bahamas      1\n",
       "201        Andorra      1\n",
       "\n",
       "[202 rows x 2 columns]"
      ]
     },
     "metadata": {},
     "output_type": "display_data"
    }
   ],
   "source": [
    "import sqlite3\n",
    "\n",
    "DB_FILE = 'universities.db'\n",
    "\n",
    "with sqlite3.connect(DB_FILE) as conn:\n",
    "    df_total_por_pais = pd.read_sql_query(\"\"\"\n",
    "        SELECT country, COUNT(*) AS total\n",
    "        FROM universities\n",
    "        GROUP BY country\n",
    "        ORDER BY total DESC\n",
    "    \"\"\", conn)\n",
    "    display(df_total_por_pais)\n"
   ]
  }
 ],
 "metadata": {
  "kernelspec": {
   "display_name": ".venv (3.12.1)",
   "language": "python",
   "name": "python3"
  },
  "language_info": {
   "codemirror_mode": {
    "name": "ipython",
    "version": 3
   },
   "file_extension": ".py",
   "mimetype": "text/x-python",
   "name": "python",
   "nbconvert_exporter": "python",
   "pygments_lexer": "ipython3",
   "version": "3.12.1"
  }
 },
 "nbformat": 4,
 "nbformat_minor": 5
}
